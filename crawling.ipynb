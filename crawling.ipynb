{
 "cells": [
  {
   "cell_type": "code",
   "execution_count": 2,
   "metadata": {},
   "outputs": [],
   "source": [
    "import pandas as pd \n",
    "import requests\n",
    "from selenium import webdriver\n",
    "from selenium.webdriver.common.by import By\n",
    "from selenium.webdriver.chrome.options import Options\n",
    "\n",
    "from entity_list import ENTITIES"
   ]
  },
  {
   "cell_type": "code",
   "execution_count": 3,
   "metadata": {},
   "outputs": [],
   "source": [
    "id_images = [] \n",
    "text_images = [] \n",
    "path_images = [] "
   ]
  },
  {
   "cell_type": "code",
   "execution_count": 4,
   "metadata": {},
   "outputs": [],
   "source": [
    "opt = Options()\n",
    "opt.add_argument(\"--disable-infobars\")\n",
    "opt.add_argument(\"start-maximized\")\n",
    "opt.add_argument(\"--disable-extensions\")\n",
    "opt.add_argument(\"--disable-notifications\")\n",
    "opt.add_argument(\"--disable-gpu\")\n",
    "# opt.add_argument(\"--headless\")\n",
    "opt.add_experimental_option(\"prefs\", { \\\n",
    "    \"profile.default_content_setting_values.media_stream_mic\": 1,       \n",
    "    \"profile.default_content_setting_values.media_stream_camera\": 1,\n",
    "    \"profile.default_content_setting_values.geolocation\": 1, \n",
    "    \"profile.default_content_setting_values.notifications\": 1 \n",
    "  })"
   ]
  },
  {
   "cell_type": "code",
   "execution_count": 5,
   "metadata": {},
   "outputs": [],
   "source": [
    "def generate_url(entity, idx_page): \n",
    "    return f'https://www.shutterstock.com/vi/search/{entity}?page={idx_page}'.replace(' ', '-')\n",
    "\n",
    "def create_driver(): \n",
    "    driver = webdriver.Chrome(options = opt)\n",
    "\n",
    "    return driver\n",
    "\n",
    "def new_tab(driver, url): \n",
    "    driver.execute_script(f\"window.open('{url}', '_blank')\")\n",
    "\n",
    "    return driver\n",
    "\n",
    "def switch_tab(driver, idx_tag): \n",
    "    driver.switch_to.window(driver.window_handles[idx_tag])\n",
    "\n",
    "    return driver\n",
    "\n",
    "def close_tab(driver): \n",
    "    driver.close()\n",
    "    driver = switch_tab(driver, idx_tag=0)\n",
    "\n",
    "    return driver\n",
    "\n",
    "def collect_image(url, id_image): \n",
    "    response = requests.get(url)\n",
    "    path = f\"images/{id_image}.jpg\"\n",
    "    \n",
    "    with open(path, 'wb') as f:\n",
    "        f.write(response.content)\n",
    "\n",
    "    return"
   ]
  },
  {
   "cell_type": "code",
   "execution_count": 6,
   "metadata": {},
   "outputs": [],
   "source": [
    "max_iter = 2 # set number of page crawl iterations"
   ]
  },
  {
   "cell_type": "code",
   "execution_count": 7,
   "metadata": {},
   "outputs": [],
   "source": [
    "try: \n",
    "    driver = create_driver()\n",
    "    count = 0\n",
    "    \n",
    "    for entity in ENTITIES: \n",
    "        # for idx_page in range(1, max_iter+1):\n",
    "        for idx_page in range(16, 17):\n",
    "            url = generate_url(entity=entity\n",
    "                            , idx_page=idx_page)\n",
    "            \n",
    "            driver.get(url)\n",
    "            elements = driver.find_elements(By.XPATH, \"//div[@role='img']\")\n",
    "            \n",
    "            for element in elements:\n",
    "                url_item = element.find_element(By.TAG_NAME, 'a').get_attribute('href')\n",
    "\n",
    "                driver = new_tab(driver, url_item)\n",
    "                driver = switch_tab(driver, 1)\n",
    "                \n",
    "                # check invalid item (removed by website)\n",
    "                try:           \n",
    "                    driver.find_element(By.CLASS_NAME, 'MuiAlert-message.mui-1xsto0d')\n",
    "                    print('skipp')\n",
    "                    driver = close_tab(driver)\n",
    "                    continue\n",
    "                except: \n",
    "                    pass            \n",
    "                \n",
    "                \n",
    "                url_image = driver.find_element(By.CLASS_NAME, 'mui-1jn9gxg-link-disabled')\\\n",
    "                    .find_element(By.TAG_NAME, 'picture').find_elements(By.TAG_NAME, 'source')[-1].get_attribute('srcset')\n",
    "                \n",
    "                collect_image(url_image, count)\n",
    "                \n",
    "                text = driver.find_element(By.CLASS_NAME, 'MuiTypography-root.MuiTypography-body1.mui-tw73me-bold-title').text\n",
    "                \n",
    "                driver = close_tab(driver) \n",
    "                \n",
    "                id_images.append(count)\n",
    "                text_images.append(text)\n",
    "                path_images.append(f'images/{count}.jpg')\n",
    "                \n",
    "                count += 1\n",
    "                \n",
    "                # scroll\n",
    "                scroll_value = 500\n",
    "                script = f\"window.scrollBy(0, {scroll_value});\"\n",
    "                driver.execute_script(script)\n",
    "                \n",
    "    driver.quit()\n",
    "\n",
    "except Exception as e: \n",
    "    pass"
   ]
  },
  {
   "cell_type": "code",
   "execution_count": 8,
   "metadata": {},
   "outputs": [],
   "source": [
    "df = pd.DataFrame({'id' : id_images, \n",
    "                  'caption' : text_images, \n",
    "                  'link_img' : path_images})\n",
    "\n",
    "df.to_csv('results.csv', index=False)"
   ]
  }
 ],
 "metadata": {
  "kernelspec": {
   "display_name": "Python 3",
   "language": "python",
   "name": "python3"
  },
  "language_info": {
   "codemirror_mode": {
    "name": "ipython",
    "version": 3
   },
   "file_extension": ".py",
   "mimetype": "text/x-python",
   "name": "python",
   "nbconvert_exporter": "python",
   "pygments_lexer": "ipython3",
   "version": "3.8.8"
  },
  "orig_nbformat": 4
 },
 "nbformat": 4,
 "nbformat_minor": 2
}
